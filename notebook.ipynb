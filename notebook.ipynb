{
 "cells": [
  {
   "cell_type": "code",
   "execution_count": 1,
   "metadata": {},
   "outputs": [
    {
     "name": "stdout",
     "output_type": "stream",
     "text": [
      "{'kind': 'youtube#videoListResponse', 'etag': 'F1m1Z5W5syGGssJjGBe07WiFGyw', 'items': [{'kind': 'youtube#video', 'etag': 'yJro0Ls39L470Yy5awmgmsJCBTM', 'id': 'dQw4w9WgXcQ', 'snippet': {'publishedAt': '2009-10-25T06:57:33Z', 'channelId': 'UCuAXFkgsw1L7xaCfnd5JJOw', 'title': 'Rick Astley - Never Gonna Give You Up (Official Music Video)', 'description': \"The official video for “Never Gonna Give You Up” by Rick Astley. \\n\\nThe new album 'Are We There Yet?' is out now: Download here: https://RickAstley.lnk.to/AreWeThereYetFA/itunes\\n\\n“Never Gonna Give You Up” was a global smash on its release in July 1987, topping the charts in 25 countries including Rick’s native UK and the US Billboard Hot 100.  It also won the Brit Award for Best single in 1988. Stock Aitken and Waterman wrote and produced the track which was the lead-off single and lead track from Rick’s debut LP “Whenever You Need Somebody”.  The album was itself a UK number one and would go on to sell over 15 million copies worldwide.\\n\\nThe legendary video was directed by Simon West – who later went on to make Hollywood blockbusters such as Con Air, Lara Croft – Tomb Raider and The Expendables 2.  The video passed the 1bn YouTube views milestone on 28 July 2021.\\n\\nSubscribe to the official Rick Astley YouTube channel: https://RickAstley.lnk.to/YTSubID\\n\\nFollow Rick Astley:\\nFacebook: https://RickAstley.lnk.to/FBFollowID \\nTwitter: https://RickAstley.lnk.to/TwitterID \\nInstagram: https://RickAstley.lnk.to/InstagramID \\nWebsite: https://RickAstley.lnk.to/storeID \\nTikTok: https://RickAstley.lnk.to/TikTokID\\n\\nListen to Rick Astley:\\nSpotify: https://RickAstley.lnk.to/SpotifyID \\nApple Music: https://RickAstley.lnk.to/AppleMusicID \\nAmazon Music: https://RickAstley.lnk.to/AmazonMusicID \\nDeezer: https://RickAstley.lnk.to/DeezerID \\n\\nLyrics:\\nWe’re no strangers to love\\nYou know the rules and so do I\\nA full commitment’s what I’m thinking of\\nYou wouldn’t get this from any other guy\\n\\nI just wanna tell you how I’m feeling\\nGotta make you understand\\n\\nNever gonna give you up\\nNever gonna let you down\\nNever gonna run around and desert you\\nNever gonna make you cry\\nNever gonna say goodbye\\nNever gonna tell a lie and hurt you\\n\\nWe’ve known each other for so long\\nYour heart’s been aching but you’re too shy to say it\\nInside we both know what’s been going on\\nWe know the game and we’re gonna play it\\n\\nAnd if you ask me how I’m feeling\\nDon’t tell me you’re too blind to see\\n\\nNever gonna give you up\\nNever gonna let you down\\nNever gonna run around and desert you\\nNever gonna make you cry\\nNever gonna say goodbye\\nNever gonna tell a lie and hurt you\\n\\n#RickAstley #NeverGonnaGiveYouUp #WheneverYouNeedSomebody #OfficialMusicVideo\", 'thumbnails': {'default': {'url': 'https://i.ytimg.com/vi/dQw4w9WgXcQ/default.jpg', 'width': 120, 'height': 90}, 'medium': {'url': 'https://i.ytimg.com/vi/dQw4w9WgXcQ/mqdefault.jpg', 'width': 320, 'height': 180}, 'high': {'url': 'https://i.ytimg.com/vi/dQw4w9WgXcQ/hqdefault.jpg', 'width': 480, 'height': 360}, 'standard': {'url': 'https://i.ytimg.com/vi/dQw4w9WgXcQ/sddefault.jpg', 'width': 640, 'height': 480}, 'maxres': {'url': 'https://i.ytimg.com/vi/dQw4w9WgXcQ/maxresdefault.jpg', 'width': 1280, 'height': 720}}, 'channelTitle': 'Rick Astley', 'tags': ['rick astley', 'Never Gonna Give You Up', 'nggyu', 'never gonna give you up lyrics', 'rick rolled', 'Rick Roll', 'rick astley official', 'rickrolled', 'Fortnite song', 'Fortnite event', 'Fortnite dance', 'fortnite never gonna give you up', 'rick roll', 'rickrolling', 'rick rolling', 'never gonna give you up', '80s music', 'rick astley new', 'animated video', 'rickroll', 'meme songs', 'never gonna give u up lyrics', 'Rick Astley 2022', 'never gonna let you down', 'animated', 'rick rolls 2022', 'never gonna give you up karaoke'], 'categoryId': '10', 'liveBroadcastContent': 'none', 'defaultLanguage': 'en', 'localized': {'title': 'Rick Astley - Never Gonna Give You Up (Official Music Video)', 'description': \"The official video for “Never Gonna Give You Up” by Rick Astley. \\n\\nThe new album 'Are We There Yet?' is out now: Download here: https://RickAstley.lnk.to/AreWeThereYetFA/itunes\\n\\n“Never Gonna Give You Up” was a global smash on its release in July 1987, topping the charts in 25 countries including Rick’s native UK and the US Billboard Hot 100.  It also won the Brit Award for Best single in 1988. Stock Aitken and Waterman wrote and produced the track which was the lead-off single and lead track from Rick’s debut LP “Whenever You Need Somebody”.  The album was itself a UK number one and would go on to sell over 15 million copies worldwide.\\n\\nThe legendary video was directed by Simon West – who later went on to make Hollywood blockbusters such as Con Air, Lara Croft – Tomb Raider and The Expendables 2.  The video passed the 1bn YouTube views milestone on 28 July 2021.\\n\\nSubscribe to the official Rick Astley YouTube channel: https://RickAstley.lnk.to/YTSubID\\n\\nFollow Rick Astley:\\nFacebook: https://RickAstley.lnk.to/FBFollowID \\nTwitter: https://RickAstley.lnk.to/TwitterID \\nInstagram: https://RickAstley.lnk.to/InstagramID \\nWebsite: https://RickAstley.lnk.to/storeID \\nTikTok: https://RickAstley.lnk.to/TikTokID\\n\\nListen to Rick Astley:\\nSpotify: https://RickAstley.lnk.to/SpotifyID \\nApple Music: https://RickAstley.lnk.to/AppleMusicID \\nAmazon Music: https://RickAstley.lnk.to/AmazonMusicID \\nDeezer: https://RickAstley.lnk.to/DeezerID \\n\\nLyrics:\\nWe’re no strangers to love\\nYou know the rules and so do I\\nA full commitment’s what I’m thinking of\\nYou wouldn’t get this from any other guy\\n\\nI just wanna tell you how I’m feeling\\nGotta make you understand\\n\\nNever gonna give you up\\nNever gonna let you down\\nNever gonna run around and desert you\\nNever gonna make you cry\\nNever gonna say goodbye\\nNever gonna tell a lie and hurt you\\n\\nWe’ve known each other for so long\\nYour heart’s been aching but you’re too shy to say it\\nInside we both know what’s been going on\\nWe know the game and we’re gonna play it\\n\\nAnd if you ask me how I’m feeling\\nDon’t tell me you’re too blind to see\\n\\nNever gonna give you up\\nNever gonna let you down\\nNever gonna run around and desert you\\nNever gonna make you cry\\nNever gonna say goodbye\\nNever gonna tell a lie and hurt you\\n\\n#RickAstley #NeverGonnaGiveYouUp #WheneverYouNeedSomebody #OfficialMusicVideo\"}, 'defaultAudioLanguage': 'en'}}], 'pageInfo': {'totalResults': 1, 'resultsPerPage': 1}}\n"
     ]
    }
   ],
   "source": [
    "import requests\n",
    "\n",
    "\n",
    "api_key = 'API'\n",
    "video_id = 'dQw4w9WgXcQ'  # Example video ID\n",
    "url = f'https://www.googleapis.com/youtube/v3/videos?id={video_id}&key={api_key}&part=snippet'\n",
    "\n",
    "response = requests.get(url)\n",
    "data = response.json()\n",
    "print(data)"
   ]
  },
  {
   "cell_type": "code",
   "execution_count": 11,
   "metadata": {},
   "outputs": [],
   "source": [
    "import subprocess\n",
    "\n",
    "def download_video_144p(url, output_dir):\n",
    "    try:\n",
    "        # Specify the desired format for 144p resolution with merging video and audio\n",
    "        format_144p = \"best[height<=144]/best\"\n",
    "        \n",
    "        # Construct the command with the specified format and merge option\n",
    "        command = [\"yt-dlp\", url, \"-o\", f\"{output_dir}/%(title)s.%(ext)s\", \"--format\", format_144p, \"--merge-output-format\", \"mkv\"]\n",
    "        \n",
    "        # Run the command\n",
    "        result = subprocess.run(command, capture_output=True, text=True)\n",
    "        \n",
    "        # Check if the process was successful\n",
    "        if result.returncode == 0:\n",
    "            print(\"Video downloaded successfully!\")\n",
    "        else:\n",
    "            print(\"Error occurred while downloading video.\")\n",
    "            print(\"Error message:\", result.stderr)\n",
    "    \n",
    "    except Exception as e:\n",
    "        print(\"An error occurred:\", str(e))\n"
   ]
  },
  {
   "cell_type": "code",
   "execution_count": 12,
   "metadata": {},
   "outputs": [
    {
     "name": "stdout",
     "output_type": "stream",
     "text": [
      "Video downloaded successfully!\n"
     ]
    }
   ],
   "source": [
    "# Example usage to download in 240p resolution\n",
    "video_url = \"https://www.youtube.com/watch?v=e_bqG1re7Bo\"\n",
    "download_video_144p(video_url, output_dir=\"vids\")"
   ]
  },
  {
   "cell_type": "code",
   "execution_count": 14,
   "metadata": {},
   "outputs": [
    {
     "name": "stdout",
     "output_type": "stream",
     "text": [
      "https://www.youtube.com/watch?v=YN5hwHiREVs\n",
      "https://www.youtube.com/watch?v=gvVl2Sbn5I4\n",
      "https://www.youtube.com/watch?v=hGAO4b3GlsU\n",
      "https://www.youtube.com/watch?v=Zi-R9JQKp3M\n",
      "https://www.youtube.com/watch?v=6rbpiSCDDCM\n",
      "https://www.youtube.com/watch?v=iOAK-kyJuHk\n",
      "https://www.youtube.com/watch?v=fYXe5MIbzDI\n",
      "https://www.youtube.com/watch?v=sovN6WSTgEI\n",
      "https://www.youtube.com/watch?v=3NknaZ9BkPc\n",
      "https://www.youtube.com/watch?v=PO7605CqZxY\n",
      "https://www.youtube.com/watch?v=7uv6nkPW3cI\n",
      "https://www.youtube.com/watch?v=3OqYc5tBspY\n",
      "https://www.youtube.com/watch?v=PpnqsaQ4mgk\n",
      "https://www.youtube.com/watch?v=n4Mt8iwrlHA\n",
      "https://www.youtube.com/watch?v=JXId2Krq54E\n",
      "https://www.youtube.com/watch?v=okFwQKGZJ8Q\n",
      "https://www.youtube.com/watch?v=M__LMJ1bOvA\n",
      "https://www.youtube.com/watch?v=hHEXTFJdcC4\n",
      "https://www.youtube.com/watch?v=Uuitz00umtM\n",
      "https://www.youtube.com/watch?v=dB5kev57WH8\n",
      "https://www.youtube.com/watch?v=MyYufzqtT2Y\n",
      "https://www.youtube.com/watch?v=MCk5275VCiY\n",
      "https://www.youtube.com/watch?v=KLqwJXWwtZo\n",
      "https://www.youtube.com/watch?v=Uw5h2OL52hk\n",
      "https://www.youtube.com/watch?v=mUEM-91wEUE\n",
      "https://www.youtube.com/watch?v=INA9R5n-oYk\n",
      "https://www.youtube.com/watch?v=KkrHqAnxz6Y\n",
      "https://www.youtube.com/watch?v=lkTHRdZzl1o\n",
      "https://www.youtube.com/watch?v=Gh_02JdoLCA\n",
      "https://www.youtube.com/watch?v=ricMXRhwqy0\n",
      "https://www.youtube.com/watch?v=KvAeCcf8B44\n",
      "https://www.youtube.com/watch?v=evB0drjb2bE\n",
      "https://www.youtube.com/watch?v=RsxKBfD8KDM\n",
      "https://www.youtube.com/watch?v=44vhXJhsPnA\n",
      "https://www.youtube.com/watch?v=Ooq2exJDI64\n",
      "https://www.youtube.com/watch?v=NOugs4vd4w4\n",
      "https://www.youtube.com/watch?v=X4fxzPVJpPk\n",
      "https://www.youtube.com/watch?v=flrURSVTw14\n",
      "https://www.youtube.com/watch?v=iOQrd28SK6M\n",
      "https://www.youtube.com/watch?v=jbVqfwvvGr0\n",
      "https://www.youtube.com/watch?v=x9FAx5lNewQ\n",
      "https://www.youtube.com/watch?v=_BPp_52fNyk\n",
      "https://www.youtube.com/watch?v=kwf9p00eVeA\n",
      "https://www.youtube.com/watch?v=0vQOXHsSMJc\n",
      "https://www.youtube.com/watch?v=BHClppkAfFQ\n",
      "https://www.youtube.com/watch?v=hIHMRSa9pXE\n",
      "https://www.youtube.com/watch?v=iLyZlosEHEY\n",
      "https://www.youtube.com/watch?v=gfTOst3NELQ\n",
      "https://www.youtube.com/watch?v=wXeal-1Ok5Q\n",
      "https://www.youtube.com/watch?v=B9B1E7GwBuQ\n"
     ]
    }
   ],
   "source": [
    "from googleapiclient.discovery import build\n",
    "import re\n",
    "from isodate import parse_duration\n",
    "\n",
    "# Initialize the YouTube API client\n",
    "youtube = build('youtube', 'v3', developerKey='API')\n",
    "\n",
    "# Search for videos matching the term \"no commentary gameplay\"\n",
    "search_response = youtube.search().list(\n",
    "    q='no commentary gameplay',\n",
    "    part='id,snippet',\n",
    "    maxResults=50,  # Adjust based on your needs\n",
    "    type='video',\n",
    "    videoDuration='medium'  # This filters videos approximately between 4-20 minutes\n",
    ").execute()\n",
    "\n",
    "video_ids = [item['id']['videoId'] for item in search_response['items']]\n",
    "\n",
    "# Fetch details for each video to filter by precise duration\n",
    "videos_response = youtube.videos().list(\n",
    "    part='contentDetails',\n",
    "    id=','.join(video_ids)\n",
    ").execute()\n",
    "\n",
    "# Filter videos by duration\n",
    "filtered_videos = []\n",
    "for item in videos_response['items']:\n",
    "    duration = parse_duration(item['contentDetails']['duration']).total_seconds()\n",
    "    if 240 <= duration <= 1200:  # 4 minutes to 20 minutes in seconds\n",
    "        filtered_videos.append(item['id'])\n",
    "\n",
    "# Construct video URLs\n",
    "video_urls = [f\"https://www.youtube.com/watch?v={video_id}\" for video_id in filtered_videos]\n",
    "\n",
    "for url in video_urls:\n",
    "    print(url)\n"
   ]
  },
  {
   "cell_type": "code",
   "execution_count": null,
   "metadata": {},
   "outputs": [],
   "source": []
  }
 ],
 "metadata": {
  "kernelspec": {
   "display_name": "Python 3",
   "language": "python",
   "name": "python3"
  },
  "language_info": {
   "codemirror_mode": {
    "name": "ipython",
    "version": 3
   },
   "file_extension": ".py",
   "mimetype": "text/x-python",
   "name": "python",
   "nbconvert_exporter": "python",
   "pygments_lexer": "ipython3",
   "version": "3.11.5"
  }
 },
 "nbformat": 4,
 "nbformat_minor": 2
}
